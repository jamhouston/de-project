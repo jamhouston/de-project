{
 "cells": [
  {
   "cell_type": "code",
   "execution_count": 2,
   "id": "4a9d4bf6",
   "metadata": {},
   "outputs": [],
   "source": [
    "import urllib3\n",
    "from jsonstream import loads\n",
    "from datetime import datetime, timedelta"
   ]
  },
  {
   "cell_type": "code",
   "execution_count": 3,
   "id": "6d10a9f1",
   "metadata": {},
   "outputs": [],
   "source": [
    "def get_json():\n",
    "    http = urllib3.PoolManager()\n",
    "    url = http.request('GET', 'https://storage.googleapis.com/xcc-de-assessment/events.json')\n",
    "    data = loads(url.data.decode('utf-8'))\n",
    "    # released back into the pool without manual intervention\n",
    "    json_list = list(filter(lambda x: (x['event']['customer-id'] is not None), data))\n",
    "    # the data comes nonchronological\n",
    "    json_list.sort(key=lambda x: datetime.strptime(x['event']['timestamp'], '%Y-%m-%dT%H:%M:%S.%f'))\n",
    "    return json_list"
   ]
  },
  {
   "cell_type": "code",
   "execution_count": 4,
   "id": "884cb53a",
   "metadata": {},
   "outputs": [],
   "source": [
    "customer_event = get_json()"
   ]
  },
  {
   "cell_type": "code",
   "execution_count": 5,
   "id": "954507bd",
   "metadata": {},
   "outputs": [],
   "source": [
    "customers = set([event['event']['customer-id'] for event in customer_event])"
   ]
  },
  {
   "cell_type": "code",
   "execution_count": 8,
   "id": "6df3a8ae",
   "metadata": {},
   "outputs": [
    {
     "name": "stdout",
     "output_type": "stream",
     "text": [
      "10000\n",
      "20000\n",
      "30000\n",
      "40000\n",
      "50000\n",
      "60000\n",
      "70000\n",
      "80000\n",
      "90000\n",
      "100000\n",
      "110000\n",
      "120000\n",
      "130000\n",
      "140000\n",
      "150000\n",
      "160000\n",
      "170000\n",
      "180000\n"
     ]
    }
   ],
   "source": [
    "delta = []\n",
    "for customer in customers:\n",
    "    customer_list = list(filter(lambda x: (x['event']['customer-id'] == customer), customer_event))\n",
    "    for i in range(len(customer_list) - 1):\n",
    "        first = round_seconds(datetime.strptime(customer_list[i]['event']['timestamp'],'%Y-%m-%dT%H:%M:%S.%f'))\n",
    "        second = round_seconds(datetime.strptime(customer_list[i + 1]['event']['timestamp'],'%Y-%m-%dT%H:%M:%S.%f'))\n",
    "        ftimestamp = datetime.timestamp(first)\n",
    "        stimestamp = datetime.timestamp(second)\n",
    "        delta.append(stimestamp - ftimestamp)\n",
    "        if len(delta) % 10000 == 0:\n",
    "            print(len(delta))"
   ]
  },
  {
   "cell_type": "code",
   "execution_count": 7,
   "id": "c77ec7bd",
   "metadata": {},
   "outputs": [],
   "source": [
    "def round_seconds(obj):\n",
    "    if obj.microsecond >= 500_000:\n",
    "        obj += timedelta(seconds=1)\n",
    "    return obj.replace(microsecond=0)\n",
    "\n",
    "def round_minutes(obj):\n",
    "    if obj.second >= 30:\n",
    "        obj += timedelta(minutes=1)\n",
    "    return obj.replace(second=0, microsecond=0)"
   ]
  },
  {
   "cell_type": "code",
   "execution_count": 1,
   "id": "731169b8",
   "metadata": {},
   "outputs": [
    {
     "ename": "NameError",
     "evalue": "name 'delta' is not defined",
     "output_type": "error",
     "traceback": [
      "\u001b[0;31m---------------------------------------------------------------------------\u001b[0m",
      "\u001b[0;31mNameError\u001b[0m                                 Traceback (most recent call last)",
      "Input \u001b[0;32mIn [1]\u001b[0m, in \u001b[0;36m<cell line: 2>\u001b[0;34m()\u001b[0m\n\u001b[1;32m      1\u001b[0m \u001b[38;5;28;01mimport\u001b[39;00m \u001b[38;5;21;01mnumpy\u001b[39;00m \u001b[38;5;28;01mas\u001b[39;00m \u001b[38;5;21;01mnp\u001b[39;00m\n\u001b[0;32m----> 2\u001b[0m a \u001b[38;5;241m=\u001b[39m np\u001b[38;5;241m.\u001b[39marray(delta)\n\u001b[1;32m      3\u001b[0m p \u001b[38;5;241m=\u001b[39m np\u001b[38;5;241m.\u001b[39mpercentile(a, \u001b[38;5;241m99\u001b[39m) \u001b[38;5;66;03m# return 50th percentile, e.g median.\u001b[39;00m\n\u001b[1;32m      4\u001b[0m \u001b[38;5;28mprint\u001b[39m(p)\n",
      "\u001b[0;31mNameError\u001b[0m: name 'delta' is not defined"
     ]
    }
   ],
   "source": [
    "import numpy as np\n",
    "a = np.array(delta)\n",
    "p = np.percentile(a, 99) # return 50th percentile, e.g median.\n",
    "print(p)"
   ]
  },
  {
   "cell_type": "code",
   "execution_count": 188,
   "id": "bef3cd01",
   "metadata": {},
   "outputs": [
    {
     "data": {
      "image/png": "[encoded data removed]",
      "text/plain": [
       "<Figure size 1440x720 with 1 Axes>"
      ]
     },
     "metadata": {},
     "output_type": "display_data"
    }
   ],
   "source": [
    "import matplotlib.pyplot as plt\n",
    "\n",
    "delta_95 = list(filter(lambda x: x < 6000, delta))\n",
    "\n",
    "import numpy as np\n",
    "\n",
    "plt.rcParams['figure.figsize'] = [20, 10]\n",
    "\n",
    "plt.style.use('ggplot')\n",
    "plt.hist(delta_95, bins=100)\n",
    "plt.show()"
   ]
  },
  {
   "cell_type": "code",
   "execution_count": null,
   "id": "009f5099",
   "metadata": {},
   "outputs": [],
   "source": []
  },
  {
   "cell_type": "code",
   "execution_count": 187,
   "id": "f47f8104",
   "metadata": {},
   "outputs": [
    {
     "name": "stdout",
     "output_type": "stream",
     "text": [
      "{9}\n"
     ]
    }
   ],
   "source": [
    "delta = []\n",
    "custom = set([customers.pop()])\n",
    "print(custom)\n",
    "for customer in custom:\n",
    "    customer_list = list(filter(lambda x: (x['event']['customer-id'] == customer), customer_event))\n",
    "    for i in range(len(customer_list) - 1):\n",
    "        first = round_seconds(datetime.strptime(customer_list[i]['event']['timestamp'],'%Y-%m-%dT%H:%M:%S.%f'))\n",
    "        second = round_seconds(datetime.strptime(customer_list[i + 1]['event']['timestamp'],'%Y-%m-%dT%H:%M:%S.%f'))\n",
    "        ftimestamp = datetime.timestamp(first)\n",
    "        stimestamp = datetime.timestamp(second)\n",
    "        delta.append(stimestamp - ftimestamp)\n",
    "        if len(delta) % 10000 == 0:\n",
    "            print(len(delta))"
   ]
  },
  {
   "cell_type": "code",
   "execution_count": 192,
   "id": "d86b4be2",
   "metadata": {},
   "outputs": [
    {
     "name": "stdout",
     "output_type": "stream",
     "text": [
      "2022-05-18 09:46:33.648681\n",
      "2022-05-18 09:56:48.648681\n",
      "2022-05-18 09:56:48.648681\n",
      "2022-05-18 10:03:33.648681\n",
      "2022-05-18 10:05:03.648681\n",
      "2022-05-18 10:07:48.648681\n",
      "2022-05-18 10:09:48.648681\n",
      "2022-05-18 10:12:18.648681\n",
      "2022-05-18 10:19:48.648681\n",
      "2022-05-18 10:19:48.648681\n",
      "2022-05-18 10:33:03.648681\n",
      "2022-05-18 10:33:03.648681\n",
      "2022-05-18 10:44:48.648681\n",
      "2022-05-18 10:44:48.648681\n",
      "2022-05-18 10:44:48.648681\n",
      "2022-05-18 10:44:48.648681\n",
      "2022-05-18 10:54:33.648681\n",
      "2022-05-18 10:54:33.648681\n",
      "2022-05-18 10:54:33.648681\n",
      "2022-05-18 10:54:33.648681\n",
      "2022-05-22 07:15:03.648681\n",
      "2022-05-22 07:15:03.648681\n",
      "2022-05-22 07:26:48.648681\n",
      "2022-05-22 07:26:48.648681\n",
      "2022-05-22 07:36:33.648681\n",
      "2022-05-22 07:36:33.648681\n",
      "2022-05-22 07:36:33.648681\n",
      "2022-05-22 07:49:33.648681\n",
      "2022-05-22 07:50:33.648681\n",
      "2022-05-22 07:51:18.648681\n",
      "2022-05-22 07:53:03.648681\n",
      "2022-05-22 07:55:03.648681\n",
      "2022-05-22 07:56:48.648681\n",
      "2022-05-22 07:58:33.648681\n",
      "2022-05-22 07:59:48.648681\n",
      "2022-05-22 08:02:03.648681\n",
      "2022-05-22 08:03:03.648681\n",
      "2022-05-22 08:05:33.648681\n",
      "2022-05-22 08:06:33.648681\n",
      "2022-05-22 08:14:03.648681\n",
      "2022-05-22 08:15:18.648681\n",
      "2022-05-22 08:17:18.648681\n",
      "2022-05-22 08:19:33.648681\n",
      "2022-05-22 08:20:33.648681\n",
      "2022-05-22 08:22:33.648681\n",
      "2022-05-22 08:24:03.648681\n",
      "2022-05-22 08:40:48.648681\n",
      "2022-05-22 08:40:48.648681\n",
      "2022-05-22 08:40:48.648681\n",
      "2022-05-22 08:41:48.648681\n",
      "2022-05-22 08:43:18.648681\n",
      "2022-05-22 08:45:48.648681\n",
      "2022-05-22 08:48:18.648681\n",
      "2022-05-22 08:50:03.648681\n",
      "2022-05-22 08:50:48.648681\n",
      "2022-05-22 08:52:33.648681\n",
      "2022-05-22 08:54:48.648681\n",
      "2022-05-22 08:56:18.648681\n",
      "2022-05-22 09:08:33.648681\n",
      "2022-05-22 09:09:18.648681\n",
      "2022-05-22 09:09:48.648681\n",
      "2022-05-22 09:12:18.648681\n",
      "2022-05-22 09:13:18.648681\n",
      "2022-05-22 09:20:48.648681\n",
      "2022-05-22 09:20:48.648681\n",
      "2022-05-22 09:38:18.648681\n",
      "2022-05-22 09:38:18.648681\n",
      "2022-05-22 09:38:18.648681\n",
      "2022-05-22 09:38:18.648681\n",
      "2022-05-25 05:44:48.648681\n",
      "2022-05-25 05:44:48.648681\n",
      "2022-05-25 06:49:33.648681\n",
      "2022-05-25 06:49:33.648681\n",
      "2022-05-25 06:49:48.648681\n",
      "2022-05-25 06:50:03.648681\n",
      "2022-05-25 06:50:18.648681\n",
      "2022-05-25 06:50:33.648681\n",
      "2022-05-25 06:50:48.648681\n",
      "2022-05-25 06:51:18.648681\n",
      "2022-05-25 06:51:33.648681\n",
      "2022-05-25 06:51:48.648681\n",
      "2022-05-25 06:52:03.648681\n",
      "2022-05-25 06:52:18.648681\n",
      "2022-05-25 06:52:33.648681\n",
      "2022-05-25 06:52:48.648681\n",
      "2022-05-25 06:53:18.648681\n",
      "2022-05-25 06:53:48.648681\n",
      "2022-05-25 06:54:03.648681\n",
      "2022-05-25 06:54:18.648681\n",
      "2022-05-25 06:54:33.648681\n",
      "2022-05-25 06:54:48.648681\n",
      "2022-05-25 06:55:03.648681\n",
      "2022-05-25 06:55:18.648681\n",
      "2022-05-25 06:55:48.648681\n",
      "2022-05-25 06:56:03.648681\n",
      "2022-05-25 06:56:18.648681\n",
      "2022-05-25 06:56:48.648681\n",
      "2022-05-25 06:57:03.648681\n",
      "2022-05-25 06:57:33.648681\n",
      "2022-05-25 06:57:48.648681\n",
      "2022-05-25 06:58:03.648681\n",
      "2022-05-25 06:58:18.648681\n",
      "2022-05-25 06:58:48.648681\n",
      "2022-05-25 06:59:03.648681\n",
      "2022-05-25 06:59:03.648681\n",
      "2022-05-25 06:59:03.648681\n"
     ]
    }
   ],
   "source": [
    "for item in customer_event:\n",
    "    if item['event']['customer-id'] == 9:\n",
    "        print(datetime.strptime(item['event']['timestamp'],'%Y-%m-%dT%H:%M:%S.%f'))"
   ]
  },
  {
   "cell_type": "code",
   "execution_count": null,
   "id": "96da58c6",
   "metadata": {},
   "outputs": [],
   "source": []
  },
  {
   "cell_type": "code",
   "execution_count": null,
   "id": "b4493196",
   "metadata": {},
   "outputs": [],
   "source": []
  },
  {
   "cell_type": "code",
   "execution_count": 217,
   "id": "02b271a3",
   "metadata": {},
   "outputs": [
    {
     "data": {
      "text/plain": [
       "1105813600344849202"
      ]
     },
     "execution_count": 217,
     "metadata": {},
     "output_type": "execute_result"
    }
   ],
   "source": [
    "hash('160###2022-05-14T12:08:48.648681'.encode('utf-8'))"
   ]
  }
 ],
 "metadata": {
  "kernelspec": {
   "display_name": "Python 3 (ipykernel)",
   "language": "python",
   "name": "python3"
  },
  "language_info": {
   "codemirror_mode": {
    "name": "ipython",
    "version": 3
   },
   "file_extension": ".py",
   "mimetype": "text/x-python",
   "name": "python",
   "nbconvert_exporter": "python",
   "pygments_lexer": "ipython3",
   "version": "3.8.9"
  }
 },
 "nbformat": 4,
 "nbformat_minor": 5
}
